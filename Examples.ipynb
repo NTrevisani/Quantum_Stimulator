{
 "cells": [
  {
   "cell_type": "code",
   "execution_count": 58,
   "metadata": {},
   "outputs": [],
   "source": [
    "# Load simulator libraries\n",
    "from Libraries.Qbits import QBit\n",
    "\n",
    "# Load python libraries\n",
    "import numpy as np"
   ]
  },
  {
   "cell_type": "code",
   "execution_count": 59,
   "metadata": {},
   "outputs": [
    {
     "name": "stdout",
     "output_type": "stream",
     "text": [
      "The module allows to create and manage quantum bits.\n"
     ]
    }
   ],
   "source": [
    "# Run the simulator module\n",
    "# Just for testing\n",
    "%run Libraries/Qbits.py"
   ]
  },
  {
   "cell_type": "code",
   "execution_count": 41,
   "metadata": {},
   "outputs": [
    {
     "name": "stdout",
     "output_type": "stream",
     "text": [
      "A QBit with angle 0.0π and phase 0.0π.\n"
     ]
    },
    {
     "data": {
      "text/plain": [
       "QBit(0.0,0.0)"
      ]
     },
     "execution_count": 41,
     "metadata": {},
     "output_type": "execute_result"
    }
   ],
   "source": [
    "# Create a qbit\n",
    "q = QBit()\n",
    "\n",
    "# Print the qbit\n",
    "print(q)\n",
    "\n",
    "# Represent the qbit\n",
    "q"
   ]
  },
  {
   "cell_type": "code",
   "execution_count": 42,
   "metadata": {},
   "outputs": [
    {
     "data": {
      "text/plain": [
       "array([[1.+0.j],\n",
       "       [0.+0.j]])"
      ]
     },
     "execution_count": 42,
     "metadata": {},
     "output_type": "execute_result"
    }
   ],
   "source": [
    "# Represent the qbit as a vector\n",
    "q.as_vector()"
   ]
  },
  {
   "cell_type": "code",
   "execution_count": 43,
   "metadata": {},
   "outputs": [
    {
     "data": {
      "text/plain": [
       "QBit(0.0,0.0)"
      ]
     },
     "execution_count": 43,
     "metadata": {},
     "output_type": "execute_result"
    }
   ],
   "source": [
    "# Define a qbit given its vector representation\n",
    "# Useful (maybe) when applying gates\n",
    "q1 = QBit.from_vector(q.as_vector())\n",
    "q1"
   ]
  },
  {
   "cell_type": "code",
   "execution_count": 44,
   "metadata": {},
   "outputs": [
    {
     "data": {
      "text/plain": [
       "0"
      ]
     },
     "execution_count": 44,
     "metadata": {},
     "output_type": "execute_result"
    }
   ],
   "source": [
    "# Measure the qbit\n",
    "# After the measurement, the qbit parameters are updated\n",
    "# to the measured state.\n",
    "q.measure()"
   ]
  },
  {
   "cell_type": "code",
   "execution_count": 45,
   "metadata": {},
   "outputs": [
    {
     "name": "stdout",
     "output_type": "stream",
     "text": [
      "The qbit is in the |0> state\n"
     ]
    }
   ],
   "source": [
    "# Measure the qbit and print its state\n",
    "q.get_state()"
   ]
  },
  {
   "cell_type": "code",
   "execution_count": 46,
   "metadata": {},
   "outputs": [
    {
     "name": "stdout",
     "output_type": "stream",
     "text": [
      "A QBit with angle 1.0π and phase 0.5π.\n",
      "The qbit is in the |1> state\n",
      "3.14159265\n",
      "0\n"
     ]
    }
   ],
   "source": [
    "# Manipulate the qbit\n",
    "\n",
    "# For now, we directly access the qbit attributes.\n",
    "# This sould become deprecated once the simulator\n",
    "# gets more developed.\n",
    "q.theta = np.pi\n",
    "q.phi = np.pi / 2\n",
    "\n",
    "# Check if the changes have happened\n",
    "print(q)\n",
    "\n",
    "# Measure the qbit and print its state\n",
    "q.get_state()\n",
    "print(q.theta)\n",
    "print(q.phi)"
   ]
  },
  {
   "cell_type": "code",
   "execution_count": 47,
   "metadata": {},
   "outputs": [
    {
     "name": "stdout",
     "output_type": "stream",
     "text": [
      "A QBit with angle 0.0π and phase 0.0π.\n",
      "The qbit is in the |0> state\n",
      "[[1.+0.j]\n",
      " [0.+0.j]]\n",
      "\n",
      "A QBit with angle 1.0π and phase 0.0π.\n",
      "The qbit is in the |1> state\n",
      "[[0.+0.j]\n",
      " [1.+0.j]]\n",
      "\n",
      "A QBit with angle 0.0π and phase 0.0π.\n",
      "The qbit is in the |0> state\n",
      "[[1.+0.j]\n",
      " [0.+0.j]]\n",
      "\n"
     ]
    }
   ],
   "source": [
    "# Apply a x-gate\n",
    "q = QBit()\n",
    "print(q)\n",
    "q.get_state()\n",
    "print(q.as_vector())\n",
    "print()\n",
    "\n",
    "q.x_gate()\n",
    "print(q)\n",
    "q.get_state()\n",
    "print(q.as_vector())\n",
    "print()\n",
    "\n",
    "q.x_gate()\n",
    "print(q)\n",
    "q.get_state()\n",
    "print(q.as_vector())\n",
    "print()"
   ]
  },
  {
   "cell_type": "code",
   "execution_count": 20,
   "metadata": {},
   "outputs": [
    {
     "name": "stdout",
     "output_type": "stream",
     "text": [
      "The qbit is in the |0> state\n",
      "\n",
      "A QBit with angle 0.0π and phase 0.0π.\n",
      "[[1.+0.j]\n",
      " [0.+0.j]]\n",
      "\n",
      "A QBit with angle 0.5π and phase 0.0π.\n",
      "[[0.70710678+0.j]\n",
      " [0.70710678+0.j]]\n",
      "\n",
      "A QBit with angle 0.0π and phase 0.0π.\n",
      "[[1.+0.j]\n",
      " [0.+0.j]]\n",
      "\n"
     ]
    }
   ],
   "source": [
    "# Apply a hadamard gate on a qbit in the |0> state\n",
    "q = QBit()\n",
    "q.get_state()\n",
    "print()\n",
    "\n",
    "print(q)\n",
    "print(q.as_vector())\n",
    "print()\n",
    "\n",
    "q.h_gate()\n",
    "print(q)\n",
    "print(q.as_vector())\n",
    "print()\n",
    "\n",
    "q.h_gate()\n",
    "print(q)\n",
    "print(q.as_vector())\n",
    "print()"
   ]
  },
  {
   "cell_type": "code",
   "execution_count": 23,
   "metadata": {},
   "outputs": [
    {
     "name": "stdout",
     "output_type": "stream",
     "text": [
      "The qbit is in the |1> state\n",
      "\n",
      "A QBit with angle 1.0π and phase 0.0π.\n",
      "[[0.+0.j]\n",
      " [1.+0.j]]\n",
      "\n",
      "A QBit with angle 0.5π and phase 1.0π.\n",
      "[[ 0.70710678+0.j]\n",
      " [-0.70710678+0.j]]\n",
      "\n",
      "A QBit with angle 1.0π and phase 0.0π.\n",
      "[[0.+0.j]\n",
      " [1.+0.j]]\n",
      "\n"
     ]
    }
   ],
   "source": [
    "# Apply a hadamard gate on a qbit in the |1> state\n",
    "\n",
    "q = QBit()\n",
    "q.x_gate()\n",
    "q.get_state()\n",
    "print()\n",
    "\n",
    "print(q)\n",
    "print(q.as_vector())\n",
    "print()\n",
    "\n",
    "q.h_gate()\n",
    "print(q)\n",
    "print(q.as_vector())\n",
    "print()\n",
    "\n",
    "q.h_gate()\n",
    "print(q)\n",
    "print(q.as_vector())\n",
    "print()"
   ]
  }
 ],
 "metadata": {
  "kernelspec": {
   "display_name": "Python 3",
   "language": "python",
   "name": "python3"
  },
  "language_info": {
   "codemirror_mode": {
    "name": "ipython",
    "version": 3
   },
   "file_extension": ".py",
   "mimetype": "text/x-python",
   "name": "python",
   "nbconvert_exporter": "python",
   "pygments_lexer": "ipython3",
   "version": "3.7.4"
  }
 },
 "nbformat": 4,
 "nbformat_minor": 4
}
