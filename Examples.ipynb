{
 "cells": [
  {
   "cell_type": "markdown",
   "metadata": {},
   "source": [
    "### Load Modules"
   ]
  },
  {
   "cell_type": "code",
   "execution_count": null,
   "metadata": {},
   "outputs": [],
   "source": [
    "# Load simulator libraries\n",
    "from Libraries.Qbits import QBit\n",
    "\n",
    "# Load python libraries\n",
    "import numpy as np"
   ]
  },
  {
   "cell_type": "code",
   "execution_count": null,
   "metadata": {},
   "outputs": [],
   "source": [
    "# Run the simulator module\n",
    "# Just for testing\n",
    "%run Libraries/Qbits.py"
   ]
  },
  {
   "cell_type": "markdown",
   "metadata": {},
   "source": [
    "### Qbit declaration and representation"
   ]
  },
  {
   "cell_type": "code",
   "execution_count": null,
   "metadata": {},
   "outputs": [],
   "source": [
    "# Create a qbit\n",
    "q = QBit()\n",
    "\n",
    "# Print the qbit\n",
    "print(q)\n",
    "\n",
    "# Represent the qbit\n",
    "q"
   ]
  },
  {
   "cell_type": "code",
   "execution_count": null,
   "metadata": {},
   "outputs": [],
   "source": [
    "# Represent the qbit as a vector\n",
    "q.as_vector()"
   ]
  },
  {
   "cell_type": "code",
   "execution_count": null,
   "metadata": {},
   "outputs": [],
   "source": [
    "# Define a qbit given its vector representation\n",
    "# Useful (maybe) when applying gates\n",
    "q1 = QBit.from_vector(q.as_vector())\n",
    "q1"
   ]
  },
  {
   "cell_type": "markdown",
   "metadata": {},
   "source": [
    "### Qbit measurement"
   ]
  },
  {
   "cell_type": "code",
   "execution_count": null,
   "metadata": {},
   "outputs": [],
   "source": [
    "# Measure the qbit\n",
    "# After the measurement, the qbit parameters are updated\n",
    "# to the measured state.\n",
    "q.measure()"
   ]
  },
  {
   "cell_type": "code",
   "execution_count": null,
   "metadata": {},
   "outputs": [],
   "source": [
    "# Measure the qbit and print its state\n",
    "q.get_state()"
   ]
  },
  {
   "cell_type": "markdown",
   "metadata": {},
   "source": [
    "### Qbit manipulation"
   ]
  },
  {
   "cell_type": "code",
   "execution_count": null,
   "metadata": {},
   "outputs": [],
   "source": [
    "# Manipulate the qbit\n",
    "\n",
    "# For now, we directly access the qbit attributes.\n",
    "# This sould become deprecated once the simulator\n",
    "# gets more developed.\n",
    "q.theta = np.pi\n",
    "q.phi = np.pi / 2\n",
    "\n",
    "# Check if the changes have happened\n",
    "print(q)\n",
    "\n",
    "# Measure the qbit and print its state\n",
    "q.get_state()\n",
    "print(q.theta)\n",
    "print(q.phi)"
   ]
  },
  {
   "cell_type": "markdown",
   "metadata": {},
   "source": [
    "### 1-qbit gates"
   ]
  },
  {
   "cell_type": "code",
   "execution_count": null,
   "metadata": {},
   "outputs": [],
   "source": [
    "# Apply a x-gate\n",
    "q = QBit()\n",
    "print(q)\n",
    "q.get_state()\n",
    "print(q.as_vector())\n",
    "print()\n",
    "\n",
    "q.x_gate()\n",
    "print(q)\n",
    "q.get_state()\n",
    "print(q.as_vector())\n",
    "print()\n",
    "\n",
    "q.x_gate()\n",
    "print(q)\n",
    "q.get_state()\n",
    "print(q.as_vector())\n",
    "print()"
   ]
  },
  {
   "cell_type": "code",
   "execution_count": null,
   "metadata": {},
   "outputs": [],
   "source": [
    "# Apply a hadamard gate on a qbit in the |0> state\n",
    "q = QBit()\n",
    "q.get_state()\n",
    "print()\n",
    "\n",
    "print(q)\n",
    "print(q.as_vector())\n",
    "print()\n",
    "\n",
    "q.h_gate()\n",
    "print(q)\n",
    "print(q.as_vector())\n",
    "print()\n",
    "\n",
    "q.h_gate()\n",
    "print(q)\n",
    "print(q.as_vector())\n",
    "print()"
   ]
  },
  {
   "cell_type": "code",
   "execution_count": null,
   "metadata": {},
   "outputs": [],
   "source": [
    "# Apply a hadamard gate on a qbit in the |1> state\n",
    "\n",
    "q = QBit()\n",
    "q.x_gate()\n",
    "q.get_state()\n",
    "print()\n",
    "\n",
    "print(q)\n",
    "print(q.as_vector())\n",
    "print()\n",
    "\n",
    "q.h_gate()\n",
    "print(q)\n",
    "print(q.as_vector())\n",
    "print()\n",
    "\n",
    "q.h_gate()\n",
    "print(q)\n",
    "print(q.as_vector())\n",
    "print()"
   ]
  },
  {
   "cell_type": "code",
   "execution_count": null,
   "metadata": {},
   "outputs": [],
   "source": [
    "# Apply a u1 gate\n",
    "\n",
    "q = QBit()\n",
    "q.h_gate()\n",
    "print(q)\n",
    "\n",
    "# lambda angle\n",
    "l = PI/4\n",
    "\n",
    "q.u1_gate(l)\n",
    "print(q)\n",
    "q.as_vector()"
   ]
  },
  {
   "cell_type": "code",
   "execution_count": null,
   "metadata": {},
   "outputs": [],
   "source": [
    "# Apply a u2 gate\n",
    "\n",
    "q = QBit()\n",
    "q.h_gate()\n",
    "print(q)\n",
    "\n",
    "# lambda angle\n",
    "l = PI/4\n",
    "# phi angle\n",
    "p = PI/2\n",
    "\n",
    "q.u2_gate(l,p)\n",
    "print(q)\n",
    "q.as_vector()"
   ]
  },
  {
   "cell_type": "code",
   "execution_count": null,
   "metadata": {},
   "outputs": [],
   "source": [
    "# Apply a u3 gate\n",
    "\n",
    "q = QBit()\n",
    "q.h_gate()\n",
    "print(q)\n",
    "\n",
    "# lambda angle\n",
    "l = PI/4\n",
    "# phi angle\n",
    "p = PI/2\n",
    "# theta angle\n",
    "t = PI\n",
    "\n",
    "q.u3_gate(l,t,p)\n",
    "print(q)\n",
    "q.as_vector()"
   ]
  },
  {
   "cell_type": "markdown",
   "metadata": {},
   "source": [
    "### Controlled gates"
   ]
  },
  {
   "cell_type": "code",
   "execution_count": null,
   "metadata": {},
   "outputs": [],
   "source": [
    "# Apply a c-not gate: |00> --> |00>\n",
    "\n",
    "q1 = QBit()\n",
    "print(\"q1:\")\n",
    "q1.get_state()\n",
    "\n",
    "q2 = QBit()\n",
    "print(\"q2:\")\n",
    "q2.get_state()\n",
    "\n",
    "print()\n",
    "print(\"Applying c-not gate...\")\n",
    "print()\n",
    "\n",
    "q1.c_not_gate(q2)\n",
    "\n",
    "print(\"q1:\")\n",
    "q1.get_state()\n",
    "print(\"q2:\")\n",
    "q2.get_state()"
   ]
  },
  {
   "cell_type": "code",
   "execution_count": null,
   "metadata": {},
   "outputs": [],
   "source": [
    "# Apply a c-not gate: |01> --> |01>\n",
    "\n",
    "q1 = QBit()\n",
    "print(\"q1:\")\n",
    "q1.get_state()\n",
    "\n",
    "q2 = QBit()\n",
    "q2.x_gate()\n",
    "print(\"q2:\")\n",
    "q2.get_state()\n",
    "\n",
    "print()\n",
    "print(\"Applying c-not gate...\")\n",
    "print()\n",
    "\n",
    "q1.c_not_gate(q2)\n",
    "\n",
    "print(\"q1:\")\n",
    "q1.get_state()\n",
    "print(\"q2:\")\n",
    "q2.get_state()"
   ]
  },
  {
   "cell_type": "code",
   "execution_count": null,
   "metadata": {},
   "outputs": [],
   "source": [
    "# Apply a c-not gate: |10> --> |11>\n",
    "\n",
    "q1 = QBit()\n",
    "q1.x_gate()\n",
    "print(\"q1:\")\n",
    "q1.get_state()\n",
    "\n",
    "q2 = QBit()\n",
    "print(\"q2:\")\n",
    "q2.get_state()\n",
    "\n",
    "print()\n",
    "print(\"Applying c-not gate...\")\n",
    "print()\n",
    "\n",
    "q1.c_not_gate(q2)\n",
    "\n",
    "print(\"q1:\")\n",
    "q1.get_state()\n",
    "print(\"q2:\")\n",
    "q2.get_state()"
   ]
  },
  {
   "cell_type": "code",
   "execution_count": null,
   "metadata": {},
   "outputs": [],
   "source": [
    "# Apply a c-not gate: |11> --> |10>\n",
    "\n",
    "q1 = QBit()\n",
    "q1.x_gate()\n",
    "print(\"q1:\")\n",
    "q1.get_state()\n",
    "\n",
    "q2 = QBit()\n",
    "q2.x_gate()\n",
    "print(\"q2:\")\n",
    "q2.get_state()\n",
    "\n",
    "print()\n",
    "print(\"Applying c-not gate...\")\n",
    "print()\n",
    "\n",
    "q1.c_not_gate(q2)\n",
    "\n",
    "print(\"q1:\")\n",
    "q1.get_state()\n",
    "print(\"q2:\")\n",
    "q2.get_state()"
   ]
  },
  {
   "cell_type": "code",
   "execution_count": null,
   "metadata": {},
   "outputs": [],
   "source": [
    "# Apply a c-hadamard gate: |10> --> |11> + |10>\n",
    "\n",
    "q1 = QBit()\n",
    "q1.x_gate()\n",
    "print(\"q1:\")\n",
    "q1.get_state()\n",
    "\n",
    "q2 = QBit()\n",
    "print(\"q2:\")\n",
    "q2.get_state()\n",
    "\n",
    "print()\n",
    "print(\"Applying c-hadamard gate...\")\n",
    "print()\n",
    "\n",
    "q1.c_h_gate(q2)\n",
    "\n",
    "print(\"q1:\")\n",
    "q1.get_state()\n",
    "print(\"q2:\")\n",
    "print(q2)\n",
    "q2.get_state()"
   ]
  },
  {
   "cell_type": "markdown",
   "metadata": {},
   "source": [
    "### Circuits\n",
    "\n",
    "Idea: \n",
    "- define a new Circuit object;\n",
    "- assign to each gate a number;\n",
    "- for each gate, append the corresponding number and eventual parameters to a list of instructions;\n",
    "- execute the circuit by reading the list and applying the corresponding gates with the correct parameters."
   ]
  },
  {
   "cell_type": "code",
   "execution_count": 1,
   "metadata": {},
   "outputs": [],
   "source": [
    "# Load libraries\n",
    "from Libraries.Circuits import Circuit\n",
    "from Libraries.Qbits import QBit"
   ]
  },
  {
   "cell_type": "code",
   "execution_count": 12,
   "metadata": {},
   "outputs": [],
   "source": [
    "# Declare qbits\n",
    "q1 = QBit()\n",
    "q2 = QBit()"
   ]
  },
  {
   "cell_type": "code",
   "execution_count": 13,
   "metadata": {},
   "outputs": [],
   "source": [
    "# Declare circuit with two qbits: q1 and q2\n",
    "c = Circuit([q1, q2])"
   ]
  },
  {
   "cell_type": "code",
   "execution_count": 14,
   "metadata": {},
   "outputs": [
    {
     "data": {
      "text/plain": [
       "[QBit(0.0,0.0), QBit(0.0,0.0)]"
      ]
     },
     "execution_count": 14,
     "metadata": {},
     "output_type": "execute_result"
    }
   ],
   "source": [
    "# Check that the qbits have been properly included in the circuit\n",
    "c.qbits"
   ]
  },
  {
   "cell_type": "code",
   "execution_count": 15,
   "metadata": {},
   "outputs": [],
   "source": [
    "# A simple example\n",
    "import numpy as np\n",
    "PI = np.pi\n",
    "\n",
    "c.h_gate(q1)\n",
    "c.c_not_gate(q1, q2)"
   ]
  },
  {
   "cell_type": "code",
   "execution_count": 16,
   "metadata": {},
   "outputs": [
    {
     "data": {
      "text/plain": [
       "[(2, QBit(0.0,0.0)), (6, QBit(0.0,0.0), QBit(0.0,0.0))]"
      ]
     },
     "execution_count": 16,
     "metadata": {},
     "output_type": "execute_result"
    }
   ],
   "source": [
    "# List of gates\n",
    "# Gates are stored as tuples\n",
    "# The number indicates the gate\n",
    "# the other arguments are the input required by the gate\n",
    "c.gates"
   ]
  },
  {
   "cell_type": "code",
   "execution_count": 17,
   "metadata": {},
   "outputs": [
    {
     "data": {
      "text/plain": [
       "{'00': 504, '11': 496}"
      ]
     },
     "execution_count": 17,
     "metadata": {},
     "output_type": "execute_result"
    }
   ],
   "source": [
    "# Execute the circuit\n",
    "# Run it N times\n",
    "\n",
    "N = 1000\n",
    "c.execute(N)"
   ]
  }
 ],
 "metadata": {
  "kernelspec": {
   "display_name": "Python 3",
   "language": "python",
   "name": "python3"
  },
  "language_info": {
   "codemirror_mode": {
    "name": "ipython",
    "version": 3
   },
   "file_extension": ".py",
   "mimetype": "text/x-python",
   "name": "python",
   "nbconvert_exporter": "python",
   "pygments_lexer": "ipython3",
   "version": "3.7.4"
  }
 },
 "nbformat": 4,
 "nbformat_minor": 4
}
