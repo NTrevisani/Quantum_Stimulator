{
 "cells": [
  {
   "cell_type": "code",
   "execution_count": 60,
   "metadata": {},
   "outputs": [],
   "source": [
    "# Load simulator libraries\n",
    "from Libraries.Qbits import QBit\n",
    "\n",
    "# Load python libraries\n",
    "import numpy as np"
   ]
  },
  {
   "cell_type": "code",
   "execution_count": 61,
   "metadata": {},
   "outputs": [
    {
     "name": "stdout",
     "output_type": "stream",
     "text": [
      "The module allows to create and manage quantum bits.\n"
     ]
    }
   ],
   "source": [
    "# Run the simulator module\n",
    "%run Libraries/Qbits.py"
   ]
  },
  {
   "cell_type": "code",
   "execution_count": 62,
   "metadata": {},
   "outputs": [
    {
     "name": "stdout",
     "output_type": "stream",
     "text": [
      "A QBit with angle 0.0π and phase 0.0π.\n"
     ]
    },
    {
     "data": {
      "text/plain": [
       "QBit(0.0,0.0)"
      ]
     },
     "execution_count": 62,
     "metadata": {},
     "output_type": "execute_result"
    }
   ],
   "source": [
    "# Create a qbit\n",
    "q = QBit()\n",
    "\n",
    "# Print the qbit\n",
    "print(q)\n",
    "\n",
    "# Represent the qbit\n",
    "q"
   ]
  },
  {
   "cell_type": "code",
   "execution_count": 63,
   "metadata": {},
   "outputs": [
    {
     "name": "stdout",
     "output_type": "stream",
     "text": [
      "The qbit is in the |0> state\n"
     ]
    }
   ],
   "source": [
    "# Measure the qbit\n",
    "q.measure()"
   ]
  },
  {
   "cell_type": "code",
   "execution_count": 64,
   "metadata": {},
   "outputs": [
    {
     "name": "stdout",
     "output_type": "stream",
     "text": [
      "A QBit with angle 1.0π and phase 1.0π.\n"
     ]
    }
   ],
   "source": [
    "# Manipulate the qbit\n",
    "\n",
    "# For now, we directly access the qbit attributes\n",
    "# This sould become deprecated once the simulator\n",
    "# gets more developed\n",
    "q.theta = np.pi\n",
    "q.phi = np.pi\n",
    "\n",
    "# Check if the changes have happened\n",
    "print(q)"
   ]
  }
 ],
 "metadata": {
  "kernelspec": {
   "display_name": "Python 3",
   "language": "python",
   "name": "python3"
  },
  "language_info": {
   "codemirror_mode": {
    "name": "ipython",
    "version": 3
   },
   "file_extension": ".py",
   "mimetype": "text/x-python",
   "name": "python",
   "nbconvert_exporter": "python",
   "pygments_lexer": "ipython3",
   "version": "3.7.4"
  }
 },
 "nbformat": 4,
 "nbformat_minor": 4
}
