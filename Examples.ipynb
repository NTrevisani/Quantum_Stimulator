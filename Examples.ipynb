{
 "cells": [
  {
   "cell_type": "markdown",
   "metadata": {},
   "source": [
    "### Load Modules"
   ]
  },
  {
   "cell_type": "code",
   "execution_count": 98,
   "metadata": {},
   "outputs": [],
   "source": [
    "# Load simulator libraries\n",
    "from Libraries.Qbits import QBit\n",
    "\n",
    "# Load python libraries\n",
    "import numpy as np"
   ]
  },
  {
   "cell_type": "code",
   "execution_count": 99,
   "metadata": {},
   "outputs": [
    {
     "name": "stdout",
     "output_type": "stream",
     "text": [
      "The module allows to create and manage quantum bits.\n"
     ]
    }
   ],
   "source": [
    "# Run the simulator module\n",
    "# Just for testing\n",
    "%run Libraries/Qbits.py"
   ]
  },
  {
   "cell_type": "markdown",
   "metadata": {},
   "source": [
    "### Qbit declaration and representation"
   ]
  },
  {
   "cell_type": "code",
   "execution_count": 100,
   "metadata": {},
   "outputs": [
    {
     "name": "stdout",
     "output_type": "stream",
     "text": [
      "A QBit with angle 0.0π and phase 0.0π.\n"
     ]
    },
    {
     "data": {
      "text/plain": [
       "QBit(0.0,0.0)"
      ]
     },
     "execution_count": 100,
     "metadata": {},
     "output_type": "execute_result"
    }
   ],
   "source": [
    "# Create a qbit\n",
    "q = QBit()\n",
    "\n",
    "# Print the qbit\n",
    "print(q)\n",
    "\n",
    "# Represent the qbit\n",
    "q"
   ]
  },
  {
   "cell_type": "code",
   "execution_count": 101,
   "metadata": {},
   "outputs": [
    {
     "data": {
      "text/plain": [
       "array([[1.+0.j],\n",
       "       [0.+0.j]])"
      ]
     },
     "execution_count": 101,
     "metadata": {},
     "output_type": "execute_result"
    }
   ],
   "source": [
    "# Represent the qbit as a vector\n",
    "q.as_vector()"
   ]
  },
  {
   "cell_type": "code",
   "execution_count": 102,
   "metadata": {},
   "outputs": [
    {
     "data": {
      "text/plain": [
       "QBit(0.0,0.0)"
      ]
     },
     "execution_count": 102,
     "metadata": {},
     "output_type": "execute_result"
    }
   ],
   "source": [
    "# Define a qbit given its vector representation\n",
    "# Useful (maybe) when applying gates\n",
    "q1 = QBit.from_vector(q.as_vector())\n",
    "q1"
   ]
  },
  {
   "cell_type": "markdown",
   "metadata": {},
   "source": [
    "### Qbit measurement"
   ]
  },
  {
   "cell_type": "code",
   "execution_count": 103,
   "metadata": {},
   "outputs": [
    {
     "data": {
      "text/plain": [
       "0"
      ]
     },
     "execution_count": 103,
     "metadata": {},
     "output_type": "execute_result"
    }
   ],
   "source": [
    "# Measure the qbit\n",
    "# After the measurement, the qbit parameters are updated\n",
    "# to the measured state.\n",
    "q.measure()"
   ]
  },
  {
   "cell_type": "code",
   "execution_count": 104,
   "metadata": {},
   "outputs": [
    {
     "name": "stdout",
     "output_type": "stream",
     "text": [
      "The qbit is in the |0> state\n"
     ]
    }
   ],
   "source": [
    "# Measure the qbit and print its state\n",
    "q.get_state()"
   ]
  },
  {
   "cell_type": "markdown",
   "metadata": {},
   "source": [
    "### Qbit manipulation"
   ]
  },
  {
   "cell_type": "code",
   "execution_count": 105,
   "metadata": {},
   "outputs": [
    {
     "name": "stdout",
     "output_type": "stream",
     "text": [
      "A QBit with angle 1.0π and phase 0.5π.\n",
      "The qbit is in the |1> state\n",
      "3.14159265\n",
      "0\n"
     ]
    }
   ],
   "source": [
    "# Manipulate the qbit\n",
    "\n",
    "# For now, we directly access the qbit attributes.\n",
    "# This sould become deprecated once the simulator\n",
    "# gets more developed.\n",
    "q.theta = np.pi\n",
    "q.phi = np.pi / 2\n",
    "\n",
    "# Check if the changes have happened\n",
    "print(q)\n",
    "\n",
    "# Measure the qbit and print its state\n",
    "q.get_state()\n",
    "print(q.theta)\n",
    "print(q.phi)"
   ]
  },
  {
   "cell_type": "markdown",
   "metadata": {},
   "source": [
    "### 1-qbit gates"
   ]
  },
  {
   "cell_type": "code",
   "execution_count": 107,
   "metadata": {},
   "outputs": [
    {
     "name": "stdout",
     "output_type": "stream",
     "text": [
      "A QBit with angle 0.0π and phase 0.0π.\n",
      "The qbit is in the |0> state\n",
      "[[1.+0.j]\n",
      " [0.+0.j]]\n",
      "\n",
      "A QBit with angle 1.0π and phase 0.0π.\n",
      "The qbit is in the |1> state\n",
      "[[0.+0.j]\n",
      " [1.+0.j]]\n",
      "\n",
      "A QBit with angle 0.0π and phase 0.0π.\n",
      "The qbit is in the |0> state\n",
      "[[1.+0.j]\n",
      " [0.+0.j]]\n",
      "\n"
     ]
    }
   ],
   "source": [
    "# Apply a x-gate\n",
    "q = QBit()\n",
    "print(q)\n",
    "q.get_state()\n",
    "print(q.as_vector())\n",
    "print()\n",
    "\n",
    "q.x_gate()\n",
    "print(q)\n",
    "q.get_state()\n",
    "print(q.as_vector())\n",
    "print()\n",
    "\n",
    "q.x_gate()\n",
    "print(q)\n",
    "q.get_state()\n",
    "print(q.as_vector())\n",
    "print()"
   ]
  },
  {
   "cell_type": "code",
   "execution_count": 108,
   "metadata": {},
   "outputs": [
    {
     "name": "stdout",
     "output_type": "stream",
     "text": [
      "The qbit is in the |0> state\n",
      "\n",
      "A QBit with angle 0.0π and phase 0.0π.\n",
      "[[1.+0.j]\n",
      " [0.+0.j]]\n",
      "\n",
      "A QBit with angle 0.5π and phase 0.0π.\n",
      "[[0.70710678+0.j]\n",
      " [0.70710678+0.j]]\n",
      "\n",
      "A QBit with angle 0.0π and phase 0.0π.\n",
      "[[1.+0.j]\n",
      " [0.+0.j]]\n",
      "\n"
     ]
    }
   ],
   "source": [
    "# Apply a hadamard gate on a qbit in the |0> state\n",
    "q = QBit()\n",
    "q.get_state()\n",
    "print()\n",
    "\n",
    "print(q)\n",
    "print(q.as_vector())\n",
    "print()\n",
    "\n",
    "q.h_gate()\n",
    "print(q)\n",
    "print(q.as_vector())\n",
    "print()\n",
    "\n",
    "q.h_gate()\n",
    "print(q)\n",
    "print(q.as_vector())\n",
    "print()"
   ]
  },
  {
   "cell_type": "code",
   "execution_count": 109,
   "metadata": {},
   "outputs": [
    {
     "name": "stdout",
     "output_type": "stream",
     "text": [
      "The qbit is in the |1> state\n",
      "\n",
      "A QBit with angle 1.0π and phase 0.0π.\n",
      "[[0.+0.j]\n",
      " [1.+0.j]]\n",
      "\n",
      "A QBit with angle 0.5π and phase 1.0π.\n",
      "[[ 0.70710678+0.j]\n",
      " [-0.70710678+0.j]]\n",
      "\n",
      "A QBit with angle 1.0π and phase 0.0π.\n",
      "[[0.+0.j]\n",
      " [1.+0.j]]\n",
      "\n"
     ]
    }
   ],
   "source": [
    "# Apply a hadamard gate on a qbit in the |1> state\n",
    "\n",
    "q = QBit()\n",
    "q.x_gate()\n",
    "q.get_state()\n",
    "print()\n",
    "\n",
    "print(q)\n",
    "print(q.as_vector())\n",
    "print()\n",
    "\n",
    "q.h_gate()\n",
    "print(q)\n",
    "print(q.as_vector())\n",
    "print()\n",
    "\n",
    "q.h_gate()\n",
    "print(q)\n",
    "print(q.as_vector())\n",
    "print()"
   ]
  },
  {
   "cell_type": "code",
   "execution_count": 110,
   "metadata": {},
   "outputs": [
    {
     "name": "stdout",
     "output_type": "stream",
     "text": [
      "A QBit with angle 0.5π and phase 0.0π.\n",
      "A QBit with angle 0.5π and phase 0.25π.\n"
     ]
    },
    {
     "data": {
      "text/plain": [
       "array([[0.70710678+0.j ],\n",
       "       [0.5       +0.5j]])"
      ]
     },
     "execution_count": 110,
     "metadata": {},
     "output_type": "execute_result"
    }
   ],
   "source": [
    "# Apply a u1 gate\n",
    "\n",
    "q = QBit()\n",
    "q.h_gate()\n",
    "print(q)\n",
    "\n",
    "# lambda angle\n",
    "l = PI/4\n",
    "\n",
    "q.u1_gate(l)\n",
    "print(q)\n",
    "q.as_vector()"
   ]
  },
  {
   "cell_type": "code",
   "execution_count": 111,
   "metadata": {},
   "outputs": [
    {
     "name": "stdout",
     "output_type": "stream",
     "text": [
      "A QBit with angle 0.5π and phase 0.0π.\n",
      "A QBit with angle 0.5π and phase 0.75π.\n"
     ]
    },
    {
     "data": {
      "text/plain": [
       "array([[ 0.70710678+0.j ],\n",
       "       [-0.5       +0.5j]])"
      ]
     },
     "execution_count": 111,
     "metadata": {},
     "output_type": "execute_result"
    }
   ],
   "source": [
    "# Apply a u2 gate\n",
    "\n",
    "q = QBit()\n",
    "q.h_gate()\n",
    "print(q)\n",
    "\n",
    "# lambda angle\n",
    "l = PI/4\n",
    "# phi angle\n",
    "p = PI/2\n",
    "\n",
    "q.u2_gate(l,p)\n",
    "print(q)\n",
    "q.as_vector()"
   ]
  },
  {
   "cell_type": "code",
   "execution_count": 112,
   "metadata": {},
   "outputs": [
    {
     "name": "stdout",
     "output_type": "stream",
     "text": [
      "A QBit with angle 0.5π and phase 0.0π.\n",
      "A QBit with angle 0.71π and phase 0.5π.\n"
     ]
    },
    {
     "data": {
      "text/plain": [
       "array([[ 0.43701602+0.j        ],\n",
       "       [-0.        +0.89945372j]])"
      ]
     },
     "execution_count": 112,
     "metadata": {},
     "output_type": "execute_result"
    }
   ],
   "source": [
    "# Apply a u3 gate\n",
    "\n",
    "q = QBit()\n",
    "q.h_gate()\n",
    "print(q)\n",
    "\n",
    "# lambda angle\n",
    "l = PI/4\n",
    "# phi angle\n",
    "p = PI/2\n",
    "# theta angle\n",
    "t = PI\n",
    "\n",
    "q.u3_gate(l,t,p)\n",
    "print(q)\n",
    "q.as_vector()"
   ]
  },
  {
   "cell_type": "markdown",
   "metadata": {},
   "source": [
    "### Controlled gates"
   ]
  },
  {
   "cell_type": "code",
   "execution_count": 113,
   "metadata": {},
   "outputs": [
    {
     "name": "stdout",
     "output_type": "stream",
     "text": [
      "q1:\n",
      "The qbit is in the |0> state\n",
      "q2:\n",
      "The qbit is in the |0> state\n",
      "\n",
      "Applying c-not gate...\n",
      "\n",
      "q1:\n",
      "The qbit is in the |0> state\n",
      "q2:\n",
      "The qbit is in the |0> state\n"
     ]
    }
   ],
   "source": [
    "# Apply a c-not gate: |00> --> |00>\n",
    "\n",
    "q1 = QBit()\n",
    "print(\"q1:\")\n",
    "q1.get_state()\n",
    "\n",
    "q2 = QBit()\n",
    "print(\"q2:\")\n",
    "q2.get_state()\n",
    "\n",
    "print()\n",
    "print(\"Applying c-not gate...\")\n",
    "print()\n",
    "\n",
    "q1.c_not_gate(q2)\n",
    "\n",
    "print(\"q1:\")\n",
    "q1.get_state()\n",
    "print(\"q2:\")\n",
    "q2.get_state()"
   ]
  },
  {
   "cell_type": "code",
   "execution_count": 114,
   "metadata": {},
   "outputs": [
    {
     "name": "stdout",
     "output_type": "stream",
     "text": [
      "q1:\n",
      "The qbit is in the |0> state\n",
      "q2:\n",
      "The qbit is in the |1> state\n",
      "\n",
      "Applying c-not gate...\n",
      "\n",
      "q1:\n",
      "The qbit is in the |0> state\n",
      "q2:\n",
      "The qbit is in the |1> state\n"
     ]
    }
   ],
   "source": [
    "# Apply a c-not gate: |01> --> |01>\n",
    "\n",
    "q1 = QBit()\n",
    "print(\"q1:\")\n",
    "q1.get_state()\n",
    "\n",
    "q2 = QBit()\n",
    "q2.x_gate()\n",
    "print(\"q2:\")\n",
    "q2.get_state()\n",
    "\n",
    "print()\n",
    "print(\"Applying c-not gate...\")\n",
    "print()\n",
    "\n",
    "q1.c_not_gate(q2)\n",
    "\n",
    "print(\"q1:\")\n",
    "q1.get_state()\n",
    "print(\"q2:\")\n",
    "q2.get_state()"
   ]
  },
  {
   "cell_type": "code",
   "execution_count": 115,
   "metadata": {},
   "outputs": [
    {
     "name": "stdout",
     "output_type": "stream",
     "text": [
      "q1:\n",
      "The qbit is in the |1> state\n",
      "q2:\n",
      "The qbit is in the |0> state\n",
      "\n",
      "Applying c-not gate...\n",
      "\n",
      "q1:\n",
      "The qbit is in the |1> state\n",
      "q2:\n",
      "The qbit is in the |1> state\n"
     ]
    }
   ],
   "source": [
    "# Apply a c-not gate: |10> --> |11>\n",
    "\n",
    "q1 = QBit()\n",
    "q1.x_gate()\n",
    "print(\"q1:\")\n",
    "q1.get_state()\n",
    "\n",
    "q2 = QBit()\n",
    "print(\"q2:\")\n",
    "q2.get_state()\n",
    "\n",
    "print()\n",
    "print(\"Applying c-not gate...\")\n",
    "print()\n",
    "\n",
    "q1.c_not_gate(q2)\n",
    "\n",
    "print(\"q1:\")\n",
    "q1.get_state()\n",
    "print(\"q2:\")\n",
    "q2.get_state()"
   ]
  },
  {
   "cell_type": "code",
   "execution_count": 116,
   "metadata": {},
   "outputs": [
    {
     "name": "stdout",
     "output_type": "stream",
     "text": [
      "q1:\n",
      "The qbit is in the |1> state\n",
      "q2:\n",
      "The qbit is in the |1> state\n",
      "\n",
      "Applying c-not gate...\n",
      "\n",
      "q1:\n",
      "The qbit is in the |1> state\n",
      "q2:\n",
      "The qbit is in the |0> state\n"
     ]
    }
   ],
   "source": [
    "# Apply a c-not gate: |11> --> |10>\n",
    "\n",
    "q1 = QBit()\n",
    "q1.x_gate()\n",
    "print(\"q1:\")\n",
    "q1.get_state()\n",
    "\n",
    "q2 = QBit()\n",
    "q2.x_gate()\n",
    "print(\"q2:\")\n",
    "q2.get_state()\n",
    "\n",
    "print()\n",
    "print(\"Applying c-not gate...\")\n",
    "print()\n",
    "\n",
    "q1.c_not_gate(q2)\n",
    "\n",
    "print(\"q1:\")\n",
    "q1.get_state()\n",
    "print(\"q2:\")\n",
    "q2.get_state()"
   ]
  },
  {
   "cell_type": "code",
   "execution_count": 117,
   "metadata": {},
   "outputs": [
    {
     "name": "stdout",
     "output_type": "stream",
     "text": [
      "q1:\n",
      "The qbit is in the |1> state\n",
      "q2:\n",
      "The qbit is in the |0> state\n",
      "\n",
      "Applying c-hadamard gate...\n",
      "\n",
      "q1:\n",
      "The qbit is in the |1> state\n",
      "q2:\n",
      "A QBit with angle 0.5π and phase 0.0π.\n",
      "The qbit is in the |1> state\n"
     ]
    }
   ],
   "source": [
    "# Apply a c-hadamard gate: |10> --> |11> + |10>\n",
    "\n",
    "q1 = QBit()\n",
    "q1.x_gate()\n",
    "print(\"q1:\")\n",
    "q1.get_state()\n",
    "\n",
    "q2 = QBit()\n",
    "print(\"q2:\")\n",
    "q2.get_state()\n",
    "\n",
    "print()\n",
    "print(\"Applying c-hadamard gate...\")\n",
    "print()\n",
    "\n",
    "q1.c_h_gate(q2)\n",
    "\n",
    "print(\"q1:\")\n",
    "q1.get_state()\n",
    "print(\"q2:\")\n",
    "print(q2)\n",
    "q2.get_state()"
   ]
  },
  {
   "cell_type": "markdown",
   "metadata": {},
   "source": [
    "### Circuits\n",
    "\n",
    "Idea: \n",
    "- define a new Circuit object;\n",
    "- assign to each gate a number;\n",
    "- for each gate, append the corresponding number and eventual parameters to a list of instructions;\n",
    "- execute the circuit by reading the list and applying the corresponding gates with the correct parameters."
   ]
  },
  {
   "cell_type": "code",
   "execution_count": null,
   "metadata": {},
   "outputs": [],
   "source": []
  }
 ],
 "metadata": {
  "kernelspec": {
   "display_name": "Python 3",
   "language": "python",
   "name": "python3"
  },
  "language_info": {
   "codemirror_mode": {
    "name": "ipython",
    "version": 3
   },
   "file_extension": ".py",
   "mimetype": "text/x-python",
   "name": "python",
   "nbconvert_exporter": "python",
   "pygments_lexer": "ipython3",
   "version": "3.7.4"
  }
 },
 "nbformat": 4,
 "nbformat_minor": 4
}
